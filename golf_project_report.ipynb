{
 "cells": [
  {
   "cell_type": "markdown",
   "id": "6e347709-f1d8-4835-b2c5-71afbc1891fb",
   "metadata": {},
   "source": [
    "## Report Check list <em>(to be removed after completion)</em>\n",
    "\n",
    "1. Title\n",
    "\n",
    "2. Introduction:\n",
    "- [x] 2.1 provide some relevant background information on the topic so that someone unfamiliar with it will be prepared to understand the rest of your report\n",
    "- [x] 2.2 clearly state the question you tried to answer with your project\n",
    "- [x] 2.3 identify and describe the dataset that was used to answer the question\n",
    "\n",
    "3. Methods & Results:\n",
    "- [x] 3.1 describe in written English the methods you used to perform your analysis from beginning to end that narrates the code the does the analysis.\\\n",
    "3.2 your report should include code which:\n",
    "- [x] 3.2.1 loads data from the original source on the web \n",
    "- [x] 3.2.2 wrangles and cleans the data from it's original (downloaded) format to the format necessary for the planned analysis\n",
    "- [x] 3.2.3 performs a summary of the data set that is relevant for exploratory data analysis related to the planned analysis \n",
    "- [x] 3.2.4 creates a visualization of the dataset that is relevant for exploratory data analysis related to the planned analysis\n",
    "- [x] 3.2.5 performs the data analysis & creates a visualization of the analysis \\\n",
    "- [X] **note: all tables and figure should have a figure/table number and a legend ** \n",
    "\n",
    "Discussion:\n",
    "- [X] summarize what you found\n",
    "- [X] discuss whether this is what you expected to find?\n",
    "- [X] discuss what impact could such findings have?\n",
    "- [X] discuss what future questions could this lead to?\n",
    "\n",
    "References \n",
    "- [ ] At least 2 citations of literature relevant to the project (format is your choice, just be consistent across the references).\n",
    "- [X] Make sure to cite the source of your data as well."
   ]
  },
  {
   "cell_type": "markdown",
   "id": "b1f726bb-0281-48d6-9a38-e5848d9fc7ad",
   "metadata": {},
   "source": [
    "# 1. Title: Predicting Golf Court Crowdedness: Seasonal Influences of Temperature and Humidity"
   ]
  },
  {
   "cell_type": "markdown",
   "id": "d1e54b1f-e2c4-421e-84f7-f4b80041a70c",
   "metadata": {},
   "source": [
    "# 2. Introduction "
   ]
  },
  {
   "cell_type": "markdown",
   "id": "5b434e3f",
   "metadata": {},
   "source": [
    "We aim to determine the impact of weather on golf course crowdedness using Samy Baladram's 'Golf Play Dataset Extended.' Specifically, we analyze the correlation between crowdedness and temperature in winter, and humidity in summer. To achieve this, we employ linear regression models that enable us to make predictions about crowdedness levels by quantifying the relationship between weather conditions and golf course attendance. Our objective is to use regression to predict precise crowdedness levels based on these factors. The dataset offers golf-related metrics, including weather conditions, seasonality, and time, enabling us to efficiently study and predict the weather-driven crowdedness patterns in two distinct seasons."
   ]
  },
  {
   "cell_type": "markdown",
   "id": "746daf39-23d3-420c-90d4-1087ce779597",
   "metadata": {
    "tags": []
   },
   "source": [
    "# 3. Methods & Results"
   ]
  },
  {
   "cell_type": "markdown",
   "id": "e4d9e686-6a83-47d8-bbfe-4c5f3b320176",
   "metadata": {
    "tags": []
   },
   "source": [
    "## 3.1 Methods Overview \n",
    "Our dataset `golf_df` consists of various attributes potentially influencing the crowdedness of a golf course. After conducting initial exploratory visualizations, we've pinpointed that crowdedness on the golf course, quantified from 0 to 1, correlates with winter temperatures and summer humidity. Our study will, therefore, concentrate on these seasons, producing two targeted graphs to elucidate the relationships of interest.\n",
    "\n",
    "- Data Segmentation: The dataset is bifurcated into two subsets based on seasonal demarcation — `golf_winter_df` and `golf_summer_df`.\n",
    "\n",
    "- Feature Selection: For the winter model, `Temperature` is identified as a predictive feature, while `Humidity` is selected for the summer model.\n",
    "\n",
    "- Model Development: A Linear Regression algorithm is employed to construct separate predictive models for each seasonal subset.\n",
    "\n",
    "- Model Training: The models are trained on their respective datasets—fitting the `Temperature` feature against `Crowdedness` for winter and `Humidity` for summer.\n",
    "\n",
    "- Prediction and Evaluation: The trained models are utilized to forecast crowdedness. Model performance is quantitatively assessed using standard metrics, such as `RMSE` (Root Mean Squared Error)."
   ]
  },
  {
   "cell_type": "code",
   "execution_count": null,
   "id": "b99c66f0-ae73-43c8-a973-402619ce193c",
   "metadata": {
    "tags": []
   },
   "outputs": [],
   "source": [
    "import altair as alt\n",
    "import numpy as np\n",
    "import pandas as pd\n",
    "from sklearn import set_config\n",
    "from sklearn.linear_model import LinearRegression\n",
    "from sklearn.metrics import mean_squared_error\n",
    "from sklearn.model_selection import train_test_split\n",
    "alt.__version__\n",
    "\n",
    "\n",
    "# If your altair version is < 5.1.2, please run the script below in a new cell and restart the Kenel \n",
    "# pip install -U altair"
   ]
  },
  {
   "cell_type": "markdown",
   "id": "adc794d1-2461-46c6-ad11-9772f51e2f59",
   "metadata": {
    "tags": []
   },
   "source": [
    "## 3.2 Data Preparation and Analysis"
   ]
  },
  {
   "cell_type": "markdown",
   "id": "b127e814-61b6-4939-ac24-f24173fb3aec",
   "metadata": {},
   "source": [
    "### 3.2.1 Read Data"
   ]
  },
  {
   "cell_type": "code",
   "execution_count": null,
   "id": "61cb14d0-c5cb-40b6-991c-e3c0185a38db",
   "metadata": {
    "tags": []
   },
   "outputs": [],
   "source": [
    "# dataset source: https://www.kaggle.com/datasets/samybaladram/golf-play-extended?select=golf_dataset_long_format_with_text.csv\n",
    "url = \"https://raw.githubusercontent.com/DeeHu/dsci-100-group-project/main/data/golf_dataset_long_format_with_text.csv\"\n",
    "golf_df = pd.read_csv(url)\n",
    "display(golf_df.head())\n"
   ]
  },
  {
   "cell_type": "markdown",
   "id": "71450ee1-b892-48ef-81c9-0565e702f5ca",
   "metadata": {},
   "source": [
    "### 3.2.2 Clean and Wrangle Data\n",
    "<p>We noted that our dataset is relatively clean, with all the variables being in an appropriate format for analysis. We have transformed the dataset into a tidy format, ensuring each variable is a column, each observation is a row, and each type of observational unit forms a table.</p>"
   ]
  },
  {
   "cell_type": "markdown",
   "id": "d21fff2f-124b-494b-ad15-34213261ec9e",
   "metadata": {},
   "source": [
    "**Extracting Relevant Data**\n",
    "\\\n",
    "For our specific analysis, we only need the `Month`, `Season`, `Temperature`, `Humidity`, and `Crowdedness` columns."
   ]
  },
  {
   "cell_type": "code",
   "execution_count": null,
   "id": "896d2ced-77ee-4151-a9d0-09597b29736a",
   "metadata": {
    "tags": []
   },
   "outputs": [],
   "source": [
    "clean_golf_df = golf_df[['Month', 'Season', 'Temperature', 'Humidity', 'Crowdedness']]\n",
    "clean_golf_df"
   ]
  },
  {
   "cell_type": "markdown",
   "id": "6e1040e9-05fc-437c-88a7-f1d9ced31695",
   "metadata": {
    "tags": []
   },
   "source": [
    "**Handling Missing Data**\n",
    "\\\n",
    "Before proceeding, we ensure no missing data in the relevant columns."
   ]
  },
  {
   "cell_type": "code",
   "execution_count": null,
   "id": "507ed6dc-6bb9-4332-a64f-d4cd2cdc769c",
   "metadata": {
    "tags": []
   },
   "outputs": [],
   "source": [
    "missing_data = clean_golf_df.isnull().sum()\n",
    "missing_data"
   ]
  },
  {
   "cell_type": "markdown",
   "id": "ea613509-7968-4990-8deb-7772f2940cd5",
   "metadata": {},
   "source": [
    "Great! There is no missing data in our current data frame."
   ]
  },
  {
   "cell_type": "markdown",
   "id": "89a5d0ff-52a5-417f-ad42-7696bd3e8617",
   "metadata": {
    "tags": []
   },
   "source": [
    "### 3.2.3 Summary of the dataset:"
   ]
  },
  {
   "cell_type": "code",
   "execution_count": null,
   "id": "1332cdb3-5952-4e09-844f-51b3a855311b",
   "metadata": {
    "tags": []
   },
   "outputs": [],
   "source": [
    "# Generate summary statistics for columns with  numeric value only\n",
    "detailed_summary = clean_golf_df[['Temperature', 'Humidity', 'Crowdedness']].describe()"
   ]
  },
  {
   "cell_type": "markdown",
   "id": "073ad650-170c-4fa0-bb1a-e47e2ca05788",
   "metadata": {},
   "source": [
    "<div align=\"center\"> Table 1: Summary for Temperature, Humidity, and Crowdedness <div>\n",
    "<br/>\n",
    "\n",
    "|       | Temperature | Humidity | Crowdedness |\n",
    "|-------|-------------|----------|-------------|\n",
    "| count | 7665.000000 | 7665.000000 | 7665.000000 |\n",
    "| mean  | 13.435525   | 61.525114  | 0.620721    |\n",
    "| std   | 8.040172    | 14.429511  | 0.150415    |\n",
    "| min   | -2.000000   | 18.000000  | 0.000000    |\n",
    "| 25%   | 6.000000    | 52.000000  | 0.530000    |\n",
    "| 50%   | 13.800000   | 61.000000  | 0.630000    |\n",
    "| 75%   | 20.500000   | 72.000000  | 0.720000    |\n",
    "| max   | 29.500000   | 99.000000  | 1.000000    |\n",
    "\n",
    "This table provides a summary of the key statistical measures for each numerical feature in the dataset, including the count of non-missing values, mean, standard deviation (std), minimum (min), lower quartile (25%), median (50%), upper quartile (75%), and maximum (max) values.\n"
   ]
  },
  {
   "cell_type": "markdown",
   "id": "2f3832c4-f099-445d-9811-9d2ab26da152",
   "metadata": {
    "tags": []
   },
   "source": [
    "### 3.2.4 Dataset Visualization"
   ]
  },
  {
   "cell_type": "markdown",
   "id": "72c5eeb2-9141-4239-b338-e4beaf61e50f",
   "metadata": {
    "tags": []
   },
   "source": [
    "From previous proposal, we discovered that:\n",
    "- There is a strong relationship between `crowdedness` and `temperature` in winter months\n",
    "- There is a strong relationship between `crowdedness` and `humidity` in summer months"
   ]
  },
  {
   "cell_type": "code",
   "execution_count": null,
   "id": "9f541723-7dfc-48f4-8237-3be5bebf0f49",
   "metadata": {
    "tags": []
   },
   "outputs": [],
   "source": [
    "alt.data_transformers.disable_max_rows()\n",
    "\n",
    "month_order = [\"Jan\", \"Feb\", \"Mar\", \"Apr\", \"May\", \"Jun\", \"Jul\", \"Aug\", \"Sep\", \"Oct\", \"Nov\", \"Dec\"]\n",
    "\n",
    "# Define a common y-axis title\n",
    "y_axis_title = \"Crowdedness Index\"\n",
    "\n",
    "# Temperature Plot\n",
    "temp_plot = alt.Chart(clean_golf_df).mark_point().encode(\n",
    "    x=alt.X('Temperature:Q').title('Temperature (°C)').scale(zero=False),\n",
    "    y=alt.Y('Crowdedness:Q').title(y_axis_title)\n",
    ").properties(\n",
    "    title=\"Monthly Temperature vs. Crowdedness\"\n",
    ").facet(\n",
    "    column=alt.Column(\"Month:N\", sort=month_order, title=\"Month\")\n",
    ").properties(\n",
    "    title=\"Figure 1.1 - Relationship between Temperature and Crowdedness by Month\"\n",
    ")\n",
    "\n",
    "# Humidity Plot\n",
    "humidity_plot = alt.Chart(clean_golf_df).mark_point().encode(\n",
    "    x=alt.X('Humidity:Q').title('Humidity (%)').scale(zero=False),\n",
    "    y=alt.Y('Crowdedness:Q').title(y_axis_title)\n",
    ").properties(\n",
    "    title=\"Monthly Humidity vs. Crowdedness\"\n",
    ").facet(\n",
    "    column=alt.Column(\"Month:N\", sort=month_order, title=\"Month\")   \n",
    ").properties(\n",
    "    title=\"Figure 1.2 - Relationship between Humidity and Crowdedness by Month\"\n",
    ")\n",
    "\n",
    "# Display the plots\n",
    "display(temp_plot)\n",
    "display(humidity_plot)\n"
   ]
  },
  {
   "cell_type": "markdown",
   "id": "c228df73-f3f6-4754-812a-c1e4ac267b2c",
   "metadata": {
    "tags": []
   },
   "source": [
    "Therefore we need to filter our data frame to have one for winter months (`winter_months_df`), another one for summer months(`summer_months_df`)."
   ]
  },
  {
   "cell_type": "code",
   "execution_count": null,
   "id": "354484ca-70a8-46b5-bb88-8deef3027000",
   "metadata": {
    "tags": []
   },
   "outputs": [],
   "source": [
    "winter_months_df = clean_golf_df[clean_golf_df['Season']=='Winter'].reset_index(drop=True)\n",
    "summer_months_df = clean_golf_df[clean_golf_df['Season']=='Summer'].reset_index(drop=True)\n",
    "\n",
    "display(winter_months_df.shape[0])\n",
    "display(summer_months_df.shape[0])"
   ]
  },
  {
   "cell_type": "markdown",
   "id": "7bfd2dad-8196-465a-b384-8697355a4ca5",
   "metadata": {
    "tags": []
   },
   "source": [
    "### 3.2.5 Data Analysis & Visualization"
   ]
  },
  {
   "cell_type": "markdown",
   "id": "fdfceee1-e40f-4d26-9e95-b235ed1109ca",
   "metadata": {
    "tags": []
   },
   "source": [
    "**Split Data into `training` and `testing` data**"
   ]
  },
  {
   "cell_type": "code",
   "execution_count": null,
   "id": "98555360-c9d9-4f46-bb49-f56386c8e369",
   "metadata": {
    "tags": []
   },
   "outputs": [],
   "source": [
    "# Output dataframes instead of arrays\n",
    "set_config(transform_output=\"pandas\")\n",
    "\n",
    "# set the seed\n",
    "np.random.seed(1)\n",
    "\n",
    "golf_winter_train, golf_winter_test = train_test_split(\n",
    "    winter_months_df, train_size=0.75)\n",
    "\n",
    "golf_summer_train, golf_summer_test = train_test_split(\n",
    "    summer_months_df, train_size=0.75)\n"
   ]
  },
  {
   "cell_type": "markdown",
   "id": "efa77599",
   "metadata": {},
   "source": [
    "We used 75% of the original dataset while training the model and tested the estimated accuracy of the model using the remaining 25% of the original dataset. As seen below, there is no missing value for both winter and summer datasets, which is good for us to start analysing them."
   ]
  },
  {
   "cell_type": "code",
   "execution_count": null,
   "id": "fcd47d38-b510-4653-b93f-31af18469b67",
   "metadata": {
    "tags": []
   },
   "outputs": [],
   "source": [
    "winter_temperature_plot = alt.Chart(golf_winter_train, title=\" Figure 2.1 - Temperature v/s Crowdedness in Winter\").mark_point().encode(\n",
    "    x=alt.X('Temperature').title('Temperature').scale(zero=False),\n",
    "    y=alt.Y('Crowdedness').title(\"Crowdedness\").scale(zero=False),\n",
    ").properties(width=600, height=400)\n",
    "\n",
    "winter_temperature_plot"
   ]
  },
  {
   "cell_type": "code",
   "execution_count": null,
   "id": "13557c26-5ce9-4f9e-83fc-6482f77cab28",
   "metadata": {
    "tags": []
   },
   "outputs": [],
   "source": [
    "summer_humidity_plot = alt.Chart(golf_summer_train, title=\"Figure 2.2 - Humidity v/s Crowdedness in Summer\").mark_point().encode(\n",
    "    x=alt.X('Humidity').title('Humidity').scale(zero=False),\n",
    "    y='Crowdedness',\n",
    ").properties(width=600, height=400) \n",
    "\n",
    "summer_humidity_plot\n"
   ]
  },
  {
   "cell_type": "markdown",
   "id": "76d9a7ef-0a44-447d-9879-f3f5eb668d5b",
   "metadata": {},
   "source": [
    "#### 3.2.5.1 Data Analysis & Visualization for Winter Months"
   ]
  },
  {
   "cell_type": "code",
   "execution_count": null,
   "id": "6f207893-1b86-4404-90c8-c452f34c99bb",
   "metadata": {
    "tags": []
   },
   "outputs": [],
   "source": [
    "# Create a LinearRegression object.\n",
    "lm_winter = LinearRegression()\n",
    "# fit our linear regression model\n",
    "X_winter_train = golf_winter_train[['Temperature']]\n",
    "y_winter_train = golf_winter_train['Crowdedness']\n",
    "\n",
    "X_winter_test = golf_winter_test[['Temperature']]\n",
    "y_winter_test = golf_winter_test['Crowdedness']\n",
    "\n",
    "winter_fit = lm_winter.fit(\n",
    "    X_winter_train,\n",
    "    y_winter_train\n",
    ")\n",
    "print(winter_fit.coef_)\n",
    "print(winter_fit.intercept_)"
   ]
  },
  {
   "cell_type": "code",
   "execution_count": null,
   "id": "7162d5e7-9d53-4c55-a625-946b04779628",
   "metadata": {
    "tags": []
   },
   "outputs": [],
   "source": [
    "# Make predictions\n",
    "winter_predictions = golf_winter_train.assign(\n",
    "    predicted = lm_winter.predict(X_winter_train)\n",
    ")\n",
    "winter_predictions"
   ]
  },
  {
   "cell_type": "code",
   "execution_count": null,
   "id": "43b13966-db52-4755-9700-e2d267e9a131",
   "metadata": {
    "tags": []
   },
   "outputs": [],
   "source": [
    "# Calculate RMSE\n",
    "lm_rmse = mean_squared_error(\n",
    "    y_true=winter_predictions['Crowdedness'],\n",
    "    y_pred=winter_predictions['predicted']\n",
    ")**(1/2)\n",
    "\n",
    "lm_rmse"
   ]
  },
  {
   "cell_type": "markdown",
   "id": "f577e60c-0cf1-43f1-8ef4-6c52a23a8877",
   "metadata": {
    "tags": []
   },
   "source": [
    "Visualize linear regression model for winter"
   ]
  },
  {
   "cell_type": "code",
   "execution_count": null,
   "id": "296dbb27-d6ab-47b2-b4c0-6a2101dacdc4",
   "metadata": {
    "tags": []
   },
   "outputs": [],
   "source": [
    "# Prepare data for prediction grid\n",
    "winter_prediction_grid = winter_months_df[['Temperature']].agg(['min', 'max']).reset_index(drop=True)\n",
    "winter_preds = winter_prediction_grid.assign(\n",
    "    predicted=lm_winter.predict(winter_prediction_grid)\n",
    ")\n",
    "\n",
    "# Visualization using Altair\n",
    "all_points_winter = alt.Chart(winter_months_df).mark_circle(opacity=0.4).encode(\n",
    "    x=alt.X(\"Temperature\")\n",
    "        .scale(zero=False)\n",
    "        .title(\"Temperature (°C)\"),\n",
    "    y=alt.Y(\"Crowdedness\")\n",
    "        .scale(zero=False)\n",
    "        .title(\"Crowdedness\")\n",
    ")\n",
    "\n",
    "\n",
    "# Line chart of predictions\n",
    "winter_preds_plot = all_points_winter + alt.Chart(winter_preds).mark_line(\n",
    "    color=\"#ff7f0e\"\n",
    ").encode(\n",
    "    x=\"Temperature\",\n",
    "    y=\"predicted\",\n",
    "    tooltip=alt.Tooltip(['Temperature', 'predicted'])\n",
    ").properties(width=600,\n",
    "             height=400,\n",
    "             title=\"Figure 3.1 - Winter Temperature vs. Crowdedness with Predictions\")\n",
    "\n",
    "winter_preds_plot"
   ]
  },
  {
   "cell_type": "markdown",
   "id": "f0f42ba6-8a93-4c21-8b1b-82fd3cd3649a",
   "metadata": {},
   "source": [
    "The the equation for the linear model: `Crowdedness = 0.481 + 0.0259 * Temperature`"
   ]
  },
  {
   "cell_type": "markdown",
   "id": "05f3aad2-229c-461d-836f-c57b98d62200",
   "metadata": {
    "tags": []
   },
   "source": [
    "#### 3.2.5.2 Data Analysis & Visualization for Summer Months"
   ]
  },
  {
   "cell_type": "code",
   "execution_count": null,
   "id": "cbcac362-c118-4e4c-8abc-00f2ae6fdc2d",
   "metadata": {
    "tags": []
   },
   "outputs": [],
   "source": [
    "# Create a LinearRegression object\n",
    "lm_summer = LinearRegression()\n",
    "\n",
    "# Fit our linear regression model\n",
    "X_summer_train = golf_summer_train[['Humidity']]\n",
    "y_summer_train = golf_summer_train['Crowdedness']\n",
    "\n",
    "X_summer_test = golf_summer_test[['Humidity']]\n",
    "y_summer_test = golf_summer_test['Crowdedness']\n",
    "\n",
    "summer_fit = lm_summer.fit(X_summer_train, y_summer_train)\n",
    "print(summer_fit.coef_)\n",
    "print(summer_fit.intercept_)"
   ]
  },
  {
   "cell_type": "code",
   "execution_count": null,
   "id": "363c004d-c0e5-45f0-a208-0fcd7fc0ac6a",
   "metadata": {
    "tags": []
   },
   "outputs": [],
   "source": [
    "# Make predictions on the training set\n",
    "summer_predictions = golf_summer_train.assign(\n",
    "    predicted=lm_summer.predict(X_summer_train)\n",
    ")\n",
    "\n",
    "# Calculate RMSE on the training set\n",
    "lm_rmse_summer = mean_squared_error(\n",
    "    y_true=summer_predictions['Crowdedness'],\n",
    "    y_pred=summer_predictions['predicted']\n",
    ")**(1/2)\n",
    "\n",
    "print(lm_rmse_summer)"
   ]
  },
  {
   "cell_type": "markdown",
   "id": "8580adc8-40f4-4246-858c-cc570aa8e324",
   "metadata": {
    "tags": []
   },
   "source": [
    "Visualize linear regression model for sinter"
   ]
  },
  {
   "cell_type": "code",
   "execution_count": null,
   "id": "e5018b42-abc4-4cfd-a6ed-f7fa633e8f8f",
   "metadata": {
    "tags": []
   },
   "outputs": [],
   "source": [
    "# Prepare data for prediction grid\n",
    "summer_prediction_grid = golf_summer_train[['Humidity']].agg(['min', 'max'])\n",
    "summer_preds = summer_prediction_grid.assign(\n",
    "    predicted=lm_summer.predict(summer_prediction_grid)\n",
    ")\n",
    "\n",
    "# Visualization using Altair\n",
    "all_points_summer = alt.Chart(golf_summer_train).mark_circle(opacity=0.4).encode(\n",
    "    x=alt.X(\"Humidity\")\n",
    "        .scale(zero=False)\n",
    "        .title(\"Humidity\"),\n",
    "    y=alt.Y(\"Crowdedness\")\n",
    "        .scale(zero=False)\n",
    "        .title(\"Crowdedness\")\n",
    ")\n",
    "\n",
    "# Line chart of predictions\n",
    "summer_preds_plot = all_points_summer + alt.Chart(summer_preds).mark_line(\n",
    "    color=\"#ff7f0e\"\n",
    ").encode(\n",
    "    x=\"Humidity\",\n",
    "    y=\"predicted\"\n",
    ").properties(width=600,\n",
    "             height=400,\n",
    "             title=\"Figure 3.2 - Summer Humidity vs. Crowdedness with Predictions\")\n",
    "\n",
    "summer_preds_plot"
   ]
  },
  {
   "cell_type": "markdown",
   "id": "d005ac31-edc2-403e-9e26-0a24e081754f",
   "metadata": {
    "tags": []
   },
   "source": [
    "The equation for the linear model: `Crowdedness = 1.523 - 0.013 * Humidity`"
   ]
  },
  {
   "cell_type": "markdown",
   "id": "c02bcb7e",
   "metadata": {},
   "source": [
    "## 5. Discussion"
   ]
  },
  {
   "cell_type": "markdown",
   "id": "fa746259-fecf-4e39-a4b7-a666102ce5a6",
   "metadata": {},
   "source": [
    "- Findings\n",
    "<p>Through our analysis, we found out that there is a clear positive relationship between temperature and crowdedness in the winter season. In the summer season, there is a clear negative relationship between humidity and crowdedness. The relationships found in the regression results align with our initial expectation that temperature in winter and humidity in summer have correlations with the level of crowdedness.</p>\n",
    "\n",
    "- Expectations vs. Reality\n",
    "<p>The results confirmed our hypotheses: milder winter temperatures increase golf course usage, while higher summer humidity decreases it. This concurrence with our initial predictions underscores the predictable impact of weather on golfing habits.</p>\n",
    "\n",
    "- Impacts\n",
    "<p>These insights are valuable for both golfers and course managers. Golfers can use weather data to anticipate course crowdedness, optimizing their playing times. Course managers can leverage this information for better staffing and resource planning, enhancing player experience and operational efficiency.</p>\n",
    "\n",
    "- Future Research\n",
    "<p>Our findings can lead to future questions: are the relationships between the temperature and crowdedness in winter and the humidity and crowdedness in summer casual? Another question can be: what level of crowdedness on the golf course do most golf players prefer?</p>"
   ]
  },
  {
   "cell_type": "markdown",
   "id": "ce02d511-75f9-492c-83a3-278859486cfb",
   "metadata": {
    "tags": []
   },
   "source": [
    "## 6. References"
   ]
  },
  {
   "cell_type": "markdown",
   "id": "19961974",
   "metadata": {},
   "source": [
    "- Timbers, T., Campbell, T., Lee, M., Heagy, L., & Ostblom, J. (n.d.). Data Science: A First Introduction (Python Edition). Retrieved from:https://python.datasciencebook.ca/\n",
    "\n",
    "- dbSeer. (2019, August 1). Data Science 101: How to Use Linear Regression As Your Predictive Model. Retrieved from https://dbseer.com/data-science-101-how-to-use-linear-regression-as-your-predictive-model/\n",
    "\n",
    "- Data source: https://www.kaggle.com/datasets/samybaladram/golf-play-extended?select=golf_dataset_long_format_with_text.csv"
   ]
  },
  {
   "cell_type": "code",
   "execution_count": null,
   "id": "b9049d37-678d-4f7c-9b72-6a794a48c2b2",
   "metadata": {},
   "outputs": [],
   "source": []
  }
 ],
 "metadata": {
  "kernelspec": {
   "display_name": "Python 3 (ipykernel)",
   "language": "python",
   "name": "python3"
  },
  "language_info": {
   "codemirror_mode": {
    "name": "ipython",
    "version": 3
   },
   "file_extension": ".py",
   "mimetype": "text/x-python",
   "name": "python",
   "nbconvert_exporter": "python",
   "pygments_lexer": "ipython3",
   "version": "3.10.8"
  }
 },
 "nbformat": 4,
 "nbformat_minor": 5
}

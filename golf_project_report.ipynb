{
 "cells": [
  {
   "cell_type": "markdown",
   "id": "b1f726bb-0281-48d6-9a38-e5848d9fc7ad",
   "metadata": {},
   "source": [
    "## 1. Title: Predicting Golf Court Crowdedness: Seasonal Influences of Temperature and Humidity"
   ]
  },
  {
   "cell_type": "markdown",
   "id": "d1e54b1f-e2c4-421e-84f7-f4b80041a70c",
   "metadata": {},
   "source": [
    "## 2. Introduction "
   ]
  },
  {
   "cell_type": "markdown",
   "id": "5b434e3f",
   "metadata": {},
   "source": [
    "We aim to determine the impact of weather on golf course crowdedness using Samy Baladram's \"Golf Play Dataset Extended.\" Specifically, we analyze the correlation between crowdedness and temperature in winter, and humidity in summer. Our objective is to use regression to predict precise crowdedness levels based on these factors. The dataset offers golf-related metrics, including weather conditions, seasonality, and time, enabling us to efficiently study and predict the weather-driven crowdedness patterns in two distinct seasons."
   ]
  },
  {
   "cell_type": "markdown",
   "id": "746daf39-23d3-420c-90d4-1087ce779597",
   "metadata": {
    "tags": []
   },
   "source": [
    "## 3. Preliminary Exploratory Data Analysis"
   ]
  },
  {
   "cell_type": "code",
   "execution_count": null,
   "id": "b99c66f0-ae73-43c8-a973-402619ce193c",
   "metadata": {
    "tags": []
   },
   "outputs": [],
   "source": [
    "import altair as alt\n",
    "import matplotlib.pyplot as plt\n",
    "import numpy as np\n",
    "import pandas as pd\n",
    "from sklearn import set_config\n",
    "from sklearn.metrics import confusion_matrix\n",
    "from sklearn.model_selection import GridSearchCV, cross_validate\n",
    "from sklearn.neighbors import KNeighborsClassifier\n",
    "from sklearn.model_selection import train_test_split\n",
    "from sklearn.linear_model import LinearRegression\n",
    "from sklearn.neighbors import KNeighborsRegressor\n",
    "from sklearn.pipeline import make_pipeline\n",
    "from sklearn.preprocessing import StandardScaler\n",
    "from sklearn.metrics import mean_squared_error"
   ]
  },
  {
   "cell_type": "markdown",
   "id": "b04098bc",
   "metadata": {},
   "source": [
    "In our preliminary analysis, we sourced our dataset from a GitHub repository, ensuring streamlined access. While the data is mostly clean, some empty cells require filtering. We've pinpointed that crowdedness on the golf course, quantified from 0 to 1, correlates with winter temperatures and summer humidity. Our study will, therefore, concentrate on these seasons, producing two targeted graphs to elucidate the relationships of interest."
   ]
  },
  {
   "cell_type": "markdown",
   "id": "adc794d1-2461-46c6-ad11-9772f51e2f59",
   "metadata": {
    "tags": []
   },
   "source": [
    "### 3.1 Read Data "
   ]
  },
  {
   "cell_type": "code",
   "execution_count": null,
   "id": "61cb14d0-c5cb-40b6-991c-e3c0185a38db",
   "metadata": {
    "tags": []
   },
   "outputs": [],
   "source": [
    "# dataset source: https://www.kaggle.com/datasets/samybaladram/golf-play-extended?select=golf_dataset_long_format_with_text.csv\n",
    "url = \"https://raw.githubusercontent.com/DeeHu/dsci-100-group-project/main/data/golf_dataset_long_format_with_text.csv\"\n",
    "golf_df = pd.read_csv(url)\n",
    "display(golf_df.head())\n",
    "golf_df.info()"
   ]
  },
  {
   "cell_type": "markdown",
   "id": "71450ee1-b892-48ef-81c9-0565e702f5ca",
   "metadata": {},
   "source": [
    "### 3.2 Clean and Wrangle Data\n",
    "<p>Upon preliminary inspection, we noted that our dataset is relatively clean, with all the variables being in an appropriate format for analysis. We have transformed the dataset into a tidy format, ensuring each variable is a column, each observation is a row, and each type of observational unit forms a table.</p>"
   ]
  },
  {
   "cell_type": "markdown",
   "id": "d21fff2f-124b-494b-ad15-34213261ec9e",
   "metadata": {},
   "source": [
    "#### 3.2.1 Extracting Relevant Data\n",
    "For our specific analysis, we only need the `Month`, `Season`, `Temperature`, `Humidity`, and `Crowdedness` columns."
   ]
  },
  {
   "cell_type": "code",
   "execution_count": null,
   "id": "896d2ced-77ee-4151-a9d0-09597b29736a",
   "metadata": {
    "tags": []
   },
   "outputs": [],
   "source": [
    "clean_golf_df = golf_df[['Month', 'Season', 'Temperature', 'Humidity', 'Crowdedness']]\n",
    "clean_golf_df"
   ]
  },
  {
   "cell_type": "markdown",
   "id": "6e1040e9-05fc-437c-88a7-f1d9ced31695",
   "metadata": {
    "tags": []
   },
   "source": [
    "#### 3.2.2 Handling Missing Data\n",
    "Before proceeding, we should ensure no missing data in the relevant columns."
   ]
  },
  {
   "cell_type": "code",
   "execution_count": null,
   "id": "507ed6dc-6bb9-4332-a64f-d4cd2cdc769c",
   "metadata": {
    "tags": []
   },
   "outputs": [],
   "source": [
    "missing_data = clean_golf_df.isnull().sum()\n",
    "missing_data"
   ]
  },
  {
   "cell_type": "markdown",
   "id": "ea613509-7968-4990-8deb-7772f2940cd5",
   "metadata": {},
   "source": [
    "Great! There is no missing data in our current data frame."
   ]
  },
  {
   "cell_type": "markdown",
   "id": "89a5d0ff-52a5-417f-ad42-7696bd3e8617",
   "metadata": {
    "tags": []
   },
   "source": [
    "#### 3.3.3 Findings After initial investigation:\n",
    "- There is a strong relationship between `crowdedness` and `temperature` in winter months;\n",
    "- There is a strong relationship between `crowdedness` and `humidity` in summer months;"
   ]
  },
  {
   "cell_type": "code",
   "execution_count": null,
   "id": "9f541723-7dfc-48f4-8237-3be5bebf0f49",
   "metadata": {
    "tags": []
   },
   "outputs": [],
   "source": [
    "alt.data_transformers.disable_max_rows()\n",
    "\n",
    "month_order = [\"Jan\", \"Feb\", \"Mar\", \"Apr\", \"May\", \"Jun\", \"Jul\", \"Aug\", \"Sep\", \"Oct\", \"Nov\", \"Dec\"]\n",
    "\n",
    "humidity_plot = alt.Chart(clean_golf_df, title=\"Relationship between Humidity and Crowdedness All Year\").mark_point().encode(\n",
    "    x=alt.X('Humidity').title('Humidity').scale(zero=False),\n",
    "    y='Crowdedness'\n",
    ").facet(\n",
    "    column=alt.Column(\"Month\", sort=month_order)   \n",
    ")\n",
    "\n",
    "temp_plot = alt.Chart(clean_golf_df, title=\"Relationship between Temperature and Crowdedness All Year\").mark_point().encode(\n",
    "    x=alt.X('Temperature').title('Temperature').scale(zero=False),\n",
    "    y='Crowdedness'\n",
    ").facet(\n",
    "    column=alt.Column(\"Month\", sort=month_order)   \n",
    ")\n",
    "\n",
    "display(temp_plot)\n",
    "display(humidity_plot)"
   ]
  },
  {
   "cell_type": "markdown",
   "id": "c228df73-f3f6-4754-812a-c1e4ac267b2c",
   "metadata": {
    "tags": []
   },
   "source": [
    "Therefore we need to filter our data frame to have one for winter months, another one for summer months."
   ]
  },
  {
   "cell_type": "code",
   "execution_count": null,
   "id": "354484ca-70a8-46b5-bb88-8deef3027000",
   "metadata": {
    "tags": []
   },
   "outputs": [],
   "source": [
    "winter_months_df = clean_golf_df[clean_golf_df['Season']=='Winter'].reset_index(drop=True)\n",
    "summer_months_df = clean_golf_df[clean_golf_df['Season']=='Summer'].reset_index(drop=True)\n",
    "\n",
    "display(winter_months_df.shape[0])\n",
    "display(summer_months_df.shape[0])"
   ]
  },
  {
   "cell_type": "markdown",
   "id": "fdfceee1-e40f-4d26-9e95-b235ed1109ca",
   "metadata": {
    "tags": []
   },
   "source": [
    "### 3.3 Split Data into `training` and `testing` data"
   ]
  },
  {
   "cell_type": "code",
   "execution_count": null,
   "id": "98555360-c9d9-4f46-bb49-f56386c8e369",
   "metadata": {
    "tags": []
   },
   "outputs": [],
   "source": [
    "# Output dataframes instead of arrays\n",
    "set_config(transform_output=\"pandas\")\n",
    "\n",
    "# set the seed\n",
    "np.random.seed(5)\n",
    "\n",
    "golf_winter_train, golf_winter_test = train_test_split(\n",
    "    winter_months_df, train_size=0.75)\n",
    "\n",
    "golf_summer_train, golf_summer_test = train_test_split(\n",
    "    summer_months_df, train_size=0.75)\n"
   ]
  },
  {
   "cell_type": "code",
   "execution_count": null,
   "id": "fbef9a20-1fe7-4b7d-bbb0-4789b0f216a9",
   "metadata": {
    "tags": []
   },
   "outputs": [],
   "source": [
    "golf_winter_train.info()"
   ]
  },
  {
   "cell_type": "code",
   "execution_count": null,
   "id": "9199c90a-d445-4141-8153-2b3a9298a7cd",
   "metadata": {
    "tags": []
   },
   "outputs": [],
   "source": [
    "golf_winter_test.info()\n"
   ]
  },
  {
   "cell_type": "code",
   "execution_count": null,
   "id": "9be637b6-7c45-464e-9556-e596c15a031c",
   "metadata": {
    "tags": []
   },
   "outputs": [],
   "source": [
    "golf_summer_train.info()"
   ]
  },
  {
   "cell_type": "code",
   "execution_count": null,
   "id": "0d4f36d8-a023-4d02-91cd-1f33911618ed",
   "metadata": {
    "tags": []
   },
   "outputs": [],
   "source": [
    "golf_summer_test.info()"
   ]
  },
  {
   "cell_type": "markdown",
   "id": "9ba317a5-c15e-4891-b7b8-3fe7824bc9aa",
   "metadata": {
    "tags": []
   },
   "source": [
    "### 3.4 Data Summary "
   ]
  },
  {
   "cell_type": "markdown",
   "id": "efa77599",
   "metadata": {},
   "source": [
    "We have filtered the cells which were erroneous and use two plots for each season. \n",
    "\n",
    "We used 75% of the original dataset while training the model and tested the estimated accuracy of the model using the remaining 25% of the original dataset. As seen below, there is no missing value for both winter and summer datasets, which is good for us to start analysing them."
   ]
  },
  {
   "cell_type": "code",
   "execution_count": null,
   "id": "d3450cc3-7d83-4ac9-842c-1f86d4afb7a6",
   "metadata": {
    "tags": []
   },
   "outputs": [],
   "source": [
    "\n",
    "\n",
    "winter_attributes =  ['Temperature', 'Humidity', 'Crowdedness']\n",
    "\n",
    "winter_count_values = golf_winter_train[winter_attributes].count()\n",
    "winter_missing_values = golf_winter_train[winter_attributes].isnull().sum()\n",
    "winter_mean_values = golf_winter_train[winter_attributes].mean(numeric_only=True)\n",
    "\n",
    "winter_summary_df = pd.DataFrame({\n",
    "    'Attribute': winter_attributes,\n",
    "    \"Count\": winter_count_values,\n",
    "    \"Missing Values\": winter_missing_values,\n",
    "    \"Mean\": winter_mean_values}).reset_index(drop=True)\n",
    "\n",
    "winter_summary_df"
   ]
  },
  {
   "cell_type": "code",
   "execution_count": null,
   "id": "eaf81855-14b2-416d-b767-6515ca2ced4a",
   "metadata": {
    "tags": []
   },
   "outputs": [],
   "source": [
    "summer_attributes =  ['Temperature', 'Humidity', 'Crowdedness']\n",
    "\n",
    "summer_count_values = golf_summer_train[winter_attributes].count()\n",
    "summer_missing_values = golf_summer_train[winter_attributes].isnull().sum()\n",
    "summer_mean_values = golf_summer_train[winter_attributes].mean(numeric_only=True)\n",
    "\n",
    "summer_summary_df = pd.DataFrame({\n",
    "    'Attribute': winter_attributes,\n",
    "    \"Count\": summer_count_values,\n",
    "    \"Missing Values\": summer_missing_values,\n",
    "    \"Mean\": summer_mean_values}).reset_index(drop=True)\n",
    "\n",
    "summer_summary_df"
   ]
  },
  {
   "cell_type": "markdown",
   "id": "3792389c-4f02-43dc-b1da-00b32e3d1ab8",
   "metadata": {
    "tags": []
   },
   "source": [
    "### 3.5 Data Visualization"
   ]
  },
  {
   "cell_type": "markdown",
   "id": "2a2c41b0-4888-4457-950c-65c94135e1ff",
   "metadata": {
    "tags": []
   },
   "source": [
    "#### 3.5.1 Crowdedness vs Temperature in the Winter"
   ]
  },
  {
   "cell_type": "code",
   "execution_count": null,
   "id": "fcd47d38-b510-4653-b93f-31af18469b67",
   "metadata": {
    "tags": []
   },
   "outputs": [],
   "source": [
    "winter_humidity_plot = alt.Chart(golf_winter_train, title=\"Relationship between temperature and crowdedness in the winter\").mark_point().encode(\n",
    "    x=alt.X('Temperature').title('Temperature').scale(zero=False),\n",
    "    y='Crowdedness',\n",
    ").properties(width=600, height=400)\n",
    "\n",
    "winter_humidity_plot"
   ]
  },
  {
   "cell_type": "markdown",
   "id": "f2019d2a-204d-4084-9c59-6905fc68d094",
   "metadata": {},
   "source": [
    "#### 3.5.2 Crowdedness vs Humidity in the Winter"
   ]
  },
  {
   "cell_type": "code",
   "execution_count": null,
   "id": "13557c26-5ce9-4f9e-83fc-6482f77cab28",
   "metadata": {
    "tags": []
   },
   "outputs": [],
   "source": [
    "summer_humidity_plot = alt.Chart(golf_summer_train, title=\"Relationship between humidity and crowdedness in the summer\").mark_point().encode(\n",
    "    x=alt.X('Humidity').title('Humidity').scale(zero=False),\n",
    "    y='Crowdedness',\n",
    ").properties(width=600, height=400) \n",
    "\n",
    "summer_humidity_plot\n"
   ]
  },
  {
   "cell_type": "markdown",
   "id": "1629ffb1-b468-4976-8991-b087d626f9be",
   "metadata": {},
   "source": [
    "## 4. Methods"
   ]
  },
  {
   "cell_type": "markdown",
   "id": "c02bcb7e",
   "metadata": {},
   "source": [
    "<p>To predict golf court crowdedness, we segmented our data by season: winter and summer. In winter, crowdedness correlated with temperature, while in summer, it related to humidity. Accordingly, we emphasized 'Temperature' and 'Crowdedness' for winter analyses and 'Humidity' and 'Crowdedness' for summer. </p>\n",
    "\n",
    "<p>We will split the dataset into a training set and a testing set and scale our numerical values to ensure that they are on a comparable scale. After choosing a “K” value (number of neighbours) to find the best “K” value for our dataset, we use the model we created to make predictions on the testing dataset. We will use two scatter plots to visualize the shifts in crowdedness. During the winter months, we will predict crowdedness based on temperature, while during the summer months, we will predict crowdedness based on humidity. </p>"
   ]
  },
  {
   "cell_type": "markdown",
   "id": "7f4f6a85-73ef-42a3-b1f5-d0b149c52cf7",
   "metadata": {
    "tags": []
   },
   "source": [
    "#### 4.1 Scaling our numerical values"
   ]
  },
  {
   "cell_type": "markdown",
   "id": "53c3d917-e983-4976-9822-55973d0b3a9a",
   "metadata": {},
   "source": [
    "#### 4.2 Choosing the best \"K\" value"
   ]
  },
  {
   "cell_type": "markdown",
   "id": "72a53e90-6c15-419f-937c-54f2e5434a04",
   "metadata": {},
   "source": [
    "#### 4.3 Making predictions"
   ]
  },
  {
   "cell_type": "markdown",
   "id": "ce02d511-75f9-492c-83a3-278859486cfb",
   "metadata": {
    "tags": []
   },
   "source": [
    "## 5. Expected Outcomes and Significance"
   ]
  },
  {
   "cell_type": "markdown",
   "id": "b63c658f",
   "metadata": {},
   "source": [
    "### 5.1 Expected Outcomes"
   ]
  },
  {
   "cell_type": "markdown",
   "id": "5dfe9c99",
   "metadata": {},
   "source": [
    "Using a regression algorithm, we predict golf course crowdedness based on factors like month, season, humidity, and temperature. The model aims to highlight how these factors affect crowdedness. In winter, we expect increased crowdedness with warmer temperatures, as golfers favor milder conditions. Conversely, in summer, higher humidity might lead to reduced crowdedness, suggesting golfers avoid humid conditions."
   ]
  },
  {
   "cell_type": "markdown",
   "id": "5671cc2a",
   "metadata": {},
   "source": [
    "### 5.2 Significance"
   ]
  },
  {
   "cell_type": "markdown",
   "id": "fdf7681a-4af4-4456-97ce-69df8c89363b",
   "metadata": {},
   "source": [
    "Our model aims to provide golf clubs with insights into factors affecting crowdedness, enabling strategic responses to attendance fluctuations. By understanding the ties between seasonal factors and attendance, managers can enhance operational efficiency and guest experiences. This algorithm serves as a pivotal tool for informed decision-making and averting low attendance. Furthermore, it paves the way for predictive tools across outdoor recreational activities, signifying an evolution in the sports industry."
   ]
  }
 ],
 "metadata": {
  "kernelspec": {
   "display_name": "Python 3 (ipykernel)",
   "language": "python",
   "name": "python3"
  },
  "language_info": {
   "codemirror_mode": {
    "name": "ipython",
    "version": 3
   },
   "file_extension": ".py",
   "mimetype": "text/x-python",
   "name": "python",
   "nbconvert_exporter": "python",
   "pygments_lexer": "ipython3",
   "version": "3.11.4"
  }
 },
 "nbformat": 4,
 "nbformat_minor": 5
}
